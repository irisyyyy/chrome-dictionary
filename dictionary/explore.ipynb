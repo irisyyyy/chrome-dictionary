{
 "cells": [
  {
   "cell_type": "markdown",
   "id": "f1cb2906",
   "metadata": {},
   "source": [
    "- explore and parse the response\n",
    "- find out what information to use in the dictionary Chrome extension."
   ]
  },
  {
   "cell_type": "code",
   "execution_count": 1,
   "id": "3993325c",
   "metadata": {},
   "outputs": [],
   "source": [
    "import requests\n",
    "import json\n",
    "from IPython.display import Audio"
   ]
  },
  {
   "cell_type": "code",
   "execution_count": 2,
   "id": "6f7df4c5",
   "metadata": {},
   "outputs": [
    {
     "name": "stdout",
     "output_type": "stream",
     "text": [
      "spring\n"
     ]
    }
   ],
   "source": [
    "#get word to search from user input\n",
    "word = input()"
   ]
  },
  {
   "cell_type": "code",
   "execution_count": 3,
   "id": "fdd6a897",
   "metadata": {},
   "outputs": [],
   "source": [
    "#dictionary api\n",
    "url = 'https://api.dictionaryapi.dev/api/v2/entries/en/'"
   ]
  },
  {
   "cell_type": "code",
   "execution_count": 4,
   "id": "ff286e9a",
   "metadata": {},
   "outputs": [],
   "source": [
    "r = requests.get(url + word)"
   ]
  },
  {
   "cell_type": "code",
   "execution_count": 5,
   "id": "b949d4bd",
   "metadata": {},
   "outputs": [
    {
     "data": {
      "text/plain": [
       "<Response [200]>"
      ]
     },
     "execution_count": 5,
     "metadata": {},
     "output_type": "execute_result"
    }
   ],
   "source": [
    "#check response code\n",
    "r"
   ]
  },
  {
   "cell_type": "code",
   "execution_count": 6,
   "id": "3bfbaae2",
   "metadata": {},
   "outputs": [],
   "source": [
    "#convert to json format\n",
    "data = r.json()"
   ]
  },
  {
   "cell_type": "code",
   "execution_count": 7,
   "id": "b58cfcc7",
   "metadata": {},
   "outputs": [
    {
     "data": {
      "text/plain": [
       "[{'word': 'spring',\n",
       "  'phonetic': '/spɹɪŋ/',\n",
       "  'phonetics': [{'text': '/spɹɪŋ/',\n",
       "    'audio': 'https://api.dictionaryapi.dev/media/pronunciations/en/spring-au.mp3',\n",
       "    'sourceUrl': 'https://commons.wikimedia.org/w/index.php?curid=75701485',\n",
       "    'license': {'name': 'BY-SA 4.0',\n",
       "     'url': 'https://creativecommons.org/licenses/by-sa/4.0'}},\n",
       "   {'text': '/spɹɪŋ/',\n",
       "    'audio': 'https://api.dictionaryapi.dev/media/pronunciations/en/spring-uk.mp3',\n",
       "    'sourceUrl': 'https://commons.wikimedia.org/w/index.php?curid=9027487',\n",
       "    'license': {'name': 'BY 3.0 US',\n",
       "     'url': 'https://creativecommons.org/licenses/by/3.0/us'}},\n",
       "   {'text': '/spɹɪŋ/',\n",
       "    'audio': 'https://api.dictionaryapi.dev/media/pronunciations/en/spring-us.mp3',\n",
       "    'sourceUrl': 'https://commons.wikimedia.org/w/index.php?curid=247074'}],\n",
       "  'meanings': [{'partOfSpeech': 'verb',\n",
       "    'definitions': [{'definition': 'To weaken, as a joint, ligament, or muscle, by sudden and excessive exertion, as by wrenching; to overstrain, or stretch injuriously, but without luxation',\n",
       "      'synonyms': [],\n",
       "      'antonyms': [],\n",
       "      'example': \"to sprain one's ankle\"}],\n",
       "    'synonyms': [],\n",
       "    'antonyms': []},\n",
       "   {'partOfSpeech': 'noun',\n",
       "    'definitions': [{'definition': 'An act of springing: a leap, a jump.',\n",
       "      'synonyms': [],\n",
       "      'antonyms': []},\n",
       "     {'definition': 'The season of the year in temperate regions in which plants spring from the ground and into bloom and dormant animals spring to life, variously reckoned as',\n",
       "      'synonyms': ['springtime'],\n",
       "      'antonyms': [],\n",
       "      'example': 'Spring is the time of the year most species reproduce.'},\n",
       "     {'definition': \"The time of something's growth; the early stages of some process.\",\n",
       "      'synonyms': [],\n",
       "      'antonyms': []},\n",
       "     {'definition': 'Someone with ivory or peach skin tone and eyes and hair that are not extremely dark, seen as best suited to certain colors of clothing.',\n",
       "      'synonyms': [],\n",
       "      'antonyms': []},\n",
       "     {'definition': 'Something which springs, springs forth, springs up, or springs back, particularly',\n",
       "      'synonyms': [],\n",
       "      'antonyms': []},\n",
       "     {'definition': 'An erection of the penis.',\n",
       "      'synonyms': [],\n",
       "      'antonyms': []},\n",
       "     {'definition': 'A crack which has sprung up in a mast, spar, or a plank or seam.',\n",
       "      'synonyms': [],\n",
       "      'antonyms': []},\n",
       "     {'definition': 'Springiness: an attribute or quality of springing, springing up, or springing back, particularly',\n",
       "      'synonyms': [],\n",
       "      'antonyms': []},\n",
       "     {'definition': 'The source from which an action or supply of something springs.',\n",
       "      'synonyms': ['impetus', 'impulse'],\n",
       "      'antonyms': []},\n",
       "     {'definition': 'Something which causes others or another to spring forth or spring into action, particularly',\n",
       "      'synonyms': [],\n",
       "      'antonyms': []}],\n",
       "    'synonyms': ['impetus', 'impulse', 'springtime'],\n",
       "    'antonyms': []},\n",
       "   {'partOfSpeech': 'verb',\n",
       "    'definitions': [{'definition': 'To burst forth.',\n",
       "      'synonyms': [],\n",
       "      'antonyms': []},\n",
       "     {'definition': '(of beards) To grow.', 'synonyms': [], 'antonyms': []},\n",
       "     {'definition': 'To cause to burst forth.',\n",
       "      'synonyms': [],\n",
       "      'antonyms': []},\n",
       "     {'definition': 'To make wet, to moisten.',\n",
       "      'synonyms': [],\n",
       "      'antonyms': []},\n",
       "     {'definition': '(usually with \"to\" or \"up\") To rise suddenly, (of tears) to well up.',\n",
       "      'synonyms': [],\n",
       "      'antonyms': [],\n",
       "      'example': 'The documentary made tears spring to their eyes.'},\n",
       "     {'definition': '(now usually with \"apart\" or \"open\") To burst into pieces, to explode, to shatter.',\n",
       "      'synonyms': [],\n",
       "      'antonyms': []},\n",
       "     {'definition': 'To go off.', 'synonyms': [], 'antonyms': []},\n",
       "     {'definition': 'To cause to explode, to set off, to detonate.',\n",
       "      'synonyms': [],\n",
       "      'antonyms': []},\n",
       "     {'definition': '(usually perfective) To crack.',\n",
       "      'synonyms': [],\n",
       "      'antonyms': []},\n",
       "     {'definition': 'To have something crack.',\n",
       "      'synonyms': [],\n",
       "      'antonyms': []},\n",
       "     {'definition': 'To cause to crack.', 'synonyms': [], 'antonyms': []},\n",
       "     {'definition': 'To surprise by sudden or deft action.',\n",
       "      'synonyms': [],\n",
       "      'antonyms': []},\n",
       "     {'definition': '(of arches) To build, to form the initial curve of.',\n",
       "      'synonyms': [],\n",
       "      'antonyms': [],\n",
       "      'example': 'They sprung an arch over the lintel.'},\n",
       "     {'definition': '(of arches, with \"from\") To extend, to curve.',\n",
       "      'synonyms': [],\n",
       "      'antonyms': [],\n",
       "      'example': 'The arches spring from the front posts.'},\n",
       "     {'definition': 'To turn a vessel using a spring attached to its anchor cable.',\n",
       "      'synonyms': [],\n",
       "      'antonyms': []},\n",
       "     {'definition': \"To raise a vessel's sheer.\",\n",
       "      'synonyms': [],\n",
       "      'antonyms': []},\n",
       "     {'definition': \"(cobblery) To raise a last's toe.\",\n",
       "      'synonyms': [],\n",
       "      'antonyms': []},\n",
       "     {'definition': 'To pay or spend a certain sum, to cough up.',\n",
       "      'synonyms': [],\n",
       "      'antonyms': []},\n",
       "     {'definition': 'To raise an offered price.',\n",
       "      'synonyms': [],\n",
       "      'antonyms': []},\n",
       "     {'definition': 'To act as a spring: to strongly rebound.',\n",
       "      'synonyms': [],\n",
       "      'antonyms': []},\n",
       "     {'definition': 'To equip with springs, especially (of vehicles) to equip with a suspension.',\n",
       "      'synonyms': [],\n",
       "      'antonyms': []},\n",
       "     {'definition': 'To provide spring or elasticity',\n",
       "      'synonyms': [],\n",
       "      'antonyms': []},\n",
       "     {'definition': 'To inspire, to motivate.',\n",
       "      'synonyms': [],\n",
       "      'antonyms': []},\n",
       "     {'definition': 'To deform owing to excessive pressure, to become warped; to intentionally deform in order to position and then straighten in place.',\n",
       "      'synonyms': [],\n",
       "      'antonyms': [],\n",
       "      'example': 'A piece of timber sometimes springs in seasoning.'},\n",
       "     {'definition': '(now rare) To reach maturity, to be fully grown.',\n",
       "      'synonyms': [],\n",
       "      'antonyms': []},\n",
       "     {'definition': '(chiefly of cows) To swell with milk or pregnancy.',\n",
       "      'synonyms': [],\n",
       "      'antonyms': []},\n",
       "     {'definition': '(of rattles) To sound, to play.',\n",
       "      'synonyms': [],\n",
       "      'antonyms': []},\n",
       "     {'definition': 'To spend the springtime somewhere',\n",
       "      'synonyms': [],\n",
       "      'antonyms': []}],\n",
       "    'synonyms': [],\n",
       "    'antonyms': []},\n",
       "   {'partOfSpeech': 'verb',\n",
       "    'definitions': [{'definition': 'To hold tightly, to clasp.',\n",
       "      'synonyms': [],\n",
       "      'antonyms': []},\n",
       "     {'definition': 'To apply a force or forces to by stretching out.',\n",
       "      'synonyms': [],\n",
       "      'antonyms': [],\n",
       "      'example': 'Relations between the United States and Guatemala traditionally have been close, although at times strained by human rights and civil/military issues.'},\n",
       "     {'definition': 'To damage by drawing, stretching, or the exertion of force.',\n",
       "      'synonyms': [],\n",
       "      'antonyms': [],\n",
       "      'example': 'The gale strained the timbers of the ship.'},\n",
       "     {'definition': 'To act upon, in any way, so as to cause change of form or volume, as when bending a beam.',\n",
       "      'synonyms': [],\n",
       "      'antonyms': []},\n",
       "     {'definition': \"To exert or struggle (to do something), especially to stretch (one's senses, faculties etc.) beyond what is normal or comfortable.\",\n",
       "      'synonyms': [],\n",
       "      'antonyms': [],\n",
       "      'example': 'Sitting in back, I strained to hear the speaker.'},\n",
       "     {'definition': 'To stretch beyond its proper limit; to do violence to, in terms of intent or meaning.',\n",
       "      'synonyms': [],\n",
       "      'antonyms': [],\n",
       "      'example': 'to strain the law in order to convict an accused person'},\n",
       "     {'definition': 'To separate solid from liquid by passing through a strainer or colander',\n",
       "      'synonyms': [],\n",
       "      'antonyms': []},\n",
       "     {'definition': 'To percolate; to be filtered.',\n",
       "      'synonyms': [],\n",
       "      'antonyms': [],\n",
       "      'example': 'water straining through a sandy soil'},\n",
       "     {'definition': 'To make uneasy or unnatural; to produce with apparent effort; to force; to constrain.',\n",
       "      'synonyms': [],\n",
       "      'antonyms': []},\n",
       "     {'definition': 'To urge with importunity; to press.',\n",
       "      'synonyms': [],\n",
       "      'antonyms': [],\n",
       "      'example': 'to strain a petition or invitation'},\n",
       "     {'definition': 'Hug somebody; to hold somebody tightly.',\n",
       "      'synonyms': [],\n",
       "      'antonyms': []}],\n",
       "    'synonyms': [],\n",
       "    'antonyms': []},\n",
       "   {'partOfSpeech': 'verb',\n",
       "    'definitions': [{'definition': 'To beget, generate (of light), engender, copulate (both of animals and humans), lie with, be born, come into the world.',\n",
       "      'synonyms': [],\n",
       "      'antonyms': [],\n",
       "      'example': 'A man straineth, liveth, then dieth.'}],\n",
       "    'synonyms': [],\n",
       "    'antonyms': []}],\n",
       "  'license': {'name': 'CC BY-SA 3.0',\n",
       "   'url': 'https://creativecommons.org/licenses/by-sa/3.0'},\n",
       "  'sourceUrls': ['https://en.wiktionary.org/wiki/sprain',\n",
       "   'https://en.wiktionary.org/wiki/spring',\n",
       "   'https://en.wiktionary.org/wiki/strain']}]"
      ]
     },
     "execution_count": 7,
     "metadata": {},
     "output_type": "execute_result"
    }
   ],
   "source": [
    "data"
   ]
  },
  {
   "cell_type": "code",
   "execution_count": 8,
   "id": "6dceafe6",
   "metadata": {},
   "outputs": [
    {
     "data": {
      "text/html": [
       "\n",
       "                <audio  controls=\"controls\" >\n",
       "                    <source src=\"https://api.dictionaryapi.dev/media/pronunciations/en/spring-us.mp3\" type=\"audio/mpeg\" />\n",
       "                    Your browser does not support the audio element.\n",
       "                </audio>\n",
       "              "
      ],
      "text/plain": [
       "<IPython.lib.display.Audio object>"
      ]
     },
     "execution_count": 8,
     "metadata": {},
     "output_type": "execute_result"
    }
   ],
   "source": [
    "#pronounciation of the word (US)\n",
    "Audio(url=data[0]['phonetics'][2]['audio'])"
   ]
  },
  {
   "cell_type": "code",
   "execution_count": 9,
   "id": "aa7df94b",
   "metadata": {},
   "outputs": [
    {
     "data": {
      "text/plain": [
       "5"
      ]
     },
     "execution_count": 9,
     "metadata": {},
     "output_type": "execute_result"
    }
   ],
   "source": [
    "#\n",
    "n = len(data[0]['meanings'])\n",
    "n"
   ]
  },
  {
   "cell_type": "code",
   "execution_count": 10,
   "id": "74248aad",
   "metadata": {},
   "outputs": [
    {
     "name": "stdout",
     "output_type": "stream",
     "text": [
      "verb\n",
      "noun\n",
      "verb\n",
      "verb\n",
      "verb\n"
     ]
    }
   ],
   "source": [
    "#loop through differnet part of speech\n",
    "for i in range(n):\n",
    "    print(data[0]['meanings'][i]['partOfSpeech'])"
   ]
  },
  {
   "cell_type": "code",
   "execution_count": 11,
   "id": "9cd3f3c4",
   "metadata": {},
   "outputs": [
    {
     "name": "stdout",
     "output_type": "stream",
     "text": [
      "To weaken, as a joint, ligament, or muscle, by sudden and excessive exertion, as by wrenching; to overstrain, or stretch injuriously, but without luxation\n",
      "An act of springing: a leap, a jump.\n",
      "To burst forth.\n",
      "To hold tightly, to clasp.\n",
      "To beget, generate (of light), engender, copulate (both of animals and humans), lie with, be born, come into the world.\n"
     ]
    }
   ],
   "source": [
    "#loop through differnet definitions\n",
    "for i in range(n):\n",
    "    print(data[0]['meanings'][i]['definitions'][0]['definition'])"
   ]
  },
  {
   "cell_type": "code",
   "execution_count": 13,
   "id": "4113b75e",
   "metadata": {},
   "outputs": [
    {
     "name": "stdout",
     "output_type": "stream",
     "text": [
      "To weaken, as a joint, ligament, or muscle, by sudden and excessive exertion, as by wrenching; to overstrain, or stretch injuriously, but without luxation\n",
      "-------------\n",
      "An act of springing: a leap, a jump.\n",
      "The season of the year in temperate regions in which plants spring from the ground and into bloom and dormant animals spring to life, variously reckoned as\n",
      "The time of something's growth; the early stages of some process.\n",
      "Someone with ivory or peach skin tone and eyes and hair that are not extremely dark, seen as best suited to certain colors of clothing.\n",
      "Something which springs, springs forth, springs up, or springs back, particularly\n",
      "An erection of the penis.\n",
      "A crack which has sprung up in a mast, spar, or a plank or seam.\n",
      "Springiness: an attribute or quality of springing, springing up, or springing back, particularly\n",
      "The source from which an action or supply of something springs.\n",
      "Something which causes others or another to spring forth or spring into action, particularly\n",
      "-------------\n",
      "To burst forth.\n",
      "(of beards) To grow.\n",
      "To cause to burst forth.\n",
      "To make wet, to moisten.\n",
      "(usually with \"to\" or \"up\") To rise suddenly, (of tears) to well up.\n",
      "(now usually with \"apart\" or \"open\") To burst into pieces, to explode, to shatter.\n",
      "To go off.\n",
      "To cause to explode, to set off, to detonate.\n",
      "(usually perfective) To crack.\n",
      "To have something crack.\n",
      "To cause to crack.\n",
      "To surprise by sudden or deft action.\n",
      "(of arches) To build, to form the initial curve of.\n",
      "(of arches, with \"from\") To extend, to curve.\n",
      "To turn a vessel using a spring attached to its anchor cable.\n",
      "To raise a vessel's sheer.\n",
      "(cobblery) To raise a last's toe.\n",
      "To pay or spend a certain sum, to cough up.\n",
      "To raise an offered price.\n",
      "To act as a spring: to strongly rebound.\n",
      "To equip with springs, especially (of vehicles) to equip with a suspension.\n",
      "To provide spring or elasticity\n",
      "To inspire, to motivate.\n",
      "To deform owing to excessive pressure, to become warped; to intentionally deform in order to position and then straighten in place.\n",
      "(now rare) To reach maturity, to be fully grown.\n",
      "(chiefly of cows) To swell with milk or pregnancy.\n",
      "(of rattles) To sound, to play.\n",
      "To spend the springtime somewhere\n",
      "-------------\n",
      "To hold tightly, to clasp.\n",
      "To apply a force or forces to by stretching out.\n",
      "To damage by drawing, stretching, or the exertion of force.\n",
      "To act upon, in any way, so as to cause change of form or volume, as when bending a beam.\n",
      "To exert or struggle (to do something), especially to stretch (one's senses, faculties etc.) beyond what is normal or comfortable.\n",
      "To stretch beyond its proper limit; to do violence to, in terms of intent or meaning.\n",
      "To separate solid from liquid by passing through a strainer or colander\n",
      "To percolate; to be filtered.\n",
      "To make uneasy or unnatural; to produce with apparent effort; to force; to constrain.\n",
      "To urge with importunity; to press.\n",
      "Hug somebody; to hold somebody tightly.\n",
      "-------------\n",
      "To beget, generate (of light), engender, copulate (both of animals and humans), lie with, be born, come into the world.\n",
      "-------------\n"
     ]
    }
   ],
   "source": [
    "#print nested definitions\n",
    "for i in range(n):\n",
    "    for j in range(len(data[0]['meanings'][i]['definitions'])):\n",
    "        print(data[0]['meanings'][i]['definitions'][j]['definition'])\n",
    "    print('-------------')"
   ]
  },
  {
   "cell_type": "code",
   "execution_count": 14,
   "id": "32292d14",
   "metadata": {},
   "outputs": [
    {
     "data": {
      "text/plain": [
       "'/spɹɪŋ/'"
      ]
     },
     "execution_count": 14,
     "metadata": {},
     "output_type": "execute_result"
    }
   ],
   "source": [
    "#phonetic symbol\n",
    "data[0]['phonetic']"
   ]
  },
  {
   "cell_type": "markdown",
   "id": "84e3ce4f",
   "metadata": {},
   "source": [
    "Check if the US pronounciation is always the 3rd in the list using another word"
   ]
  },
  {
   "cell_type": "code",
   "execution_count": 17,
   "id": "c9cc9ae2",
   "metadata": {},
   "outputs": [],
   "source": [
    "word2 = 'mobile'\n",
    "r2 = requests.get(url + word2)"
   ]
  },
  {
   "cell_type": "code",
   "execution_count": 18,
   "id": "6803b167",
   "metadata": {},
   "outputs": [
    {
     "data": {
      "text/plain": [
       "<Response [200]>"
      ]
     },
     "execution_count": 18,
     "metadata": {},
     "output_type": "execute_result"
    }
   ],
   "source": [
    "r2"
   ]
  },
  {
   "cell_type": "code",
   "execution_count": 19,
   "id": "5a687ee9",
   "metadata": {},
   "outputs": [],
   "source": [
    "data2 = r2.json()"
   ]
  },
  {
   "cell_type": "code",
   "execution_count": 20,
   "id": "dde7cf91",
   "metadata": {},
   "outputs": [
    {
     "data": {
      "text/plain": [
       "[{'word': 'mobile',\n",
       "  'phonetic': '/ˈməʊbaɪl/',\n",
       "  'phonetics': [{'text': '/ˈməʊbaɪl/',\n",
       "    'audio': 'https://api.dictionaryapi.dev/media/pronunciations/en/mobile-uk.mp3',\n",
       "    'sourceUrl': 'https://commons.wikimedia.org/w/index.php?curid=1929869'},\n",
       "   {'text': '/ˈmoʊbaɪl/', 'audio': ''}],\n",
       "  'meanings': [{'partOfSpeech': 'noun',\n",
       "    'definitions': [{'definition': 'A kinetic sculpture or decorative arrangement made of items hanging so that they can move independently from each other.',\n",
       "      'synonyms': [],\n",
       "      'antonyms': []},\n",
       "     {'definition': 'The internet accessed via mobile devices.',\n",
       "      'synonyms': [],\n",
       "      'antonyms': [],\n",
       "      'example': 'there are many business opportunities in mobile'},\n",
       "     {'definition': 'Something that can move.',\n",
       "      'synonyms': [],\n",
       "      'antonyms': []}],\n",
       "    'synonyms': [],\n",
       "    'antonyms': []},\n",
       "   {'partOfSpeech': 'adjective',\n",
       "    'definitions': [{'definition': 'Capable of being moved, especially on wheels.',\n",
       "      'synonyms': [],\n",
       "      'antonyms': ['fixed', 'immobile', 'sessile', 'stationary'],\n",
       "      'example': 'a mobile home'},\n",
       "     {'definition': 'Pertaining to or by agency of mobile phones.',\n",
       "      'synonyms': [],\n",
       "      'antonyms': [],\n",
       "      'example': 'mobile internet'},\n",
       "     {'definition': 'Characterized by an extreme degree of fluidity; moving or flowing with great freedom.',\n",
       "      'synonyms': [],\n",
       "      'antonyms': [],\n",
       "      'example': 'Mercury is a mobile liquid.'},\n",
       "     {'definition': 'Easily moved in feeling, purpose, or direction; excitable; changeable; fickle.',\n",
       "      'synonyms': ['excitable', 'fickle'],\n",
       "      'antonyms': []},\n",
       "     {'definition': 'Changing in appearance and expression under the influence of the mind.',\n",
       "      'synonyms': [],\n",
       "      'antonyms': [],\n",
       "      'example': 'mobile features'},\n",
       "     {'definition': 'Capable of being moved, aroused, or excited; capable of spontaneous movement.',\n",
       "      'synonyms': [],\n",
       "      'antonyms': []}],\n",
       "    'synonyms': ['excitable', 'fickle'],\n",
       "    'antonyms': ['fixed', 'immobile', 'sessile', 'stationary']},\n",
       "   {'partOfSpeech': 'noun',\n",
       "    'definitions': [{'definition': 'A portable telephone that connects with the telephone network over radio wave transmission.',\n",
       "      'synonyms': [],\n",
       "      'antonyms': []}],\n",
       "    'synonyms': ['cell',\n",
       "     'cell phone',\n",
       "     'cellphone',\n",
       "     'cellular',\n",
       "     'cellular mobile',\n",
       "     'cellular phone',\n",
       "     'cellular telephone',\n",
       "     'handphone',\n",
       "     'mobile'],\n",
       "    'antonyms': []}],\n",
       "  'license': {'name': 'CC BY-SA 3.0',\n",
       "   'url': 'https://creativecommons.org/licenses/by-sa/3.0'},\n",
       "  'sourceUrls': ['https://en.wiktionary.org/wiki/mobile',\n",
       "   'https://en.wiktionary.org/wiki/mobile%20phone']}]"
      ]
     },
     "execution_count": 20,
     "metadata": {},
     "output_type": "execute_result"
    }
   ],
   "source": [
    "data2"
   ]
  },
  {
   "cell_type": "code",
   "execution_count": 21,
   "id": "2f1f444a",
   "metadata": {},
   "outputs": [
    {
     "data": {
      "text/html": [
       "\n",
       "                <audio  controls=\"controls\" >\n",
       "                    <source src=\"https://api.dictionaryapi.dev/media/pronunciations/en/mobile-uk.mp3\" type=\"audio/mpeg\" />\n",
       "                    Your browser does not support the audio element.\n",
       "                </audio>\n",
       "              "
      ],
      "text/plain": [
       "<IPython.lib.display.Audio object>"
      ]
     },
     "execution_count": 21,
     "metadata": {},
     "output_type": "execute_result"
    }
   ],
   "source": [
    "Audio(url=data2[0]['phonetics'][0]['audio'])"
   ]
  },
  {
   "cell_type": "markdown",
   "id": "ca5fb938",
   "metadata": {},
   "source": [
    "Seems like not every word has multiple pronounciation audio source. Two choices:<br>\n",
    "1. Always use the first one available\n",
    "2. Based on priority + availability"
   ]
  },
  {
   "cell_type": "code",
   "execution_count": 22,
   "id": "d9c791ec",
   "metadata": {},
   "outputs": [],
   "source": [
    "word3 = 'hello'\n",
    "r3 = requests.get(url + word3)"
   ]
  },
  {
   "cell_type": "code",
   "execution_count": 23,
   "id": "408ef547",
   "metadata": {},
   "outputs": [
    {
     "data": {
      "text/plain": [
       "[{'word': 'hello',\n",
       "  'phonetics': [{'audio': 'https://api.dictionaryapi.dev/media/pronunciations/en/hello-au.mp3',\n",
       "    'sourceUrl': 'https://commons.wikimedia.org/w/index.php?curid=75797336',\n",
       "    'license': {'name': 'BY-SA 4.0',\n",
       "     'url': 'https://creativecommons.org/licenses/by-sa/4.0'}},\n",
       "   {'text': '/həˈləʊ/',\n",
       "    'audio': 'https://api.dictionaryapi.dev/media/pronunciations/en/hello-uk.mp3',\n",
       "    'sourceUrl': 'https://commons.wikimedia.org/w/index.php?curid=9021983',\n",
       "    'license': {'name': 'BY 3.0 US',\n",
       "     'url': 'https://creativecommons.org/licenses/by/3.0/us'}},\n",
       "   {'text': '/həˈloʊ/', 'audio': ''}],\n",
       "  'meanings': [{'partOfSpeech': 'noun',\n",
       "    'definitions': [{'definition': '\"Hello!\" or an equivalent greeting.',\n",
       "      'synonyms': [],\n",
       "      'antonyms': []}],\n",
       "    'synonyms': ['greeting'],\n",
       "    'antonyms': []},\n",
       "   {'partOfSpeech': 'verb',\n",
       "    'definitions': [{'definition': 'To greet with \"hello\".',\n",
       "      'synonyms': [],\n",
       "      'antonyms': []}],\n",
       "    'synonyms': [],\n",
       "    'antonyms': []},\n",
       "   {'partOfSpeech': 'interjection',\n",
       "    'definitions': [{'definition': 'A greeting (salutation) said when meeting someone or acknowledging someone’s arrival or presence.',\n",
       "      'synonyms': [],\n",
       "      'antonyms': [],\n",
       "      'example': 'Hello, everyone.'},\n",
       "     {'definition': 'A greeting used when answering the telephone.',\n",
       "      'synonyms': [],\n",
       "      'antonyms': [],\n",
       "      'example': 'Hello? How may I help you?'},\n",
       "     {'definition': 'A call for response if it is not clear if anyone is present or listening, or if a telephone conversation may have been disconnected.',\n",
       "      'synonyms': [],\n",
       "      'antonyms': [],\n",
       "      'example': 'Hello? Is anyone there?'},\n",
       "     {'definition': 'Used sarcastically to imply that the person addressed or referred to has done something the speaker or writer considers to be foolish.',\n",
       "      'synonyms': [],\n",
       "      'antonyms': [],\n",
       "      'example': 'You just tried to start your car with your cell phone. Hello?'},\n",
       "     {'definition': 'An expression of puzzlement or discovery.',\n",
       "      'synonyms': [],\n",
       "      'antonyms': [],\n",
       "      'example': 'Hello! What’s going on here?'}],\n",
       "    'synonyms': [],\n",
       "    'antonyms': ['bye', 'goodbye']}],\n",
       "  'license': {'name': 'CC BY-SA 3.0',\n",
       "   'url': 'https://creativecommons.org/licenses/by-sa/3.0'},\n",
       "  'sourceUrls': ['https://en.wiktionary.org/wiki/hello']}]"
      ]
     },
     "execution_count": 23,
     "metadata": {},
     "output_type": "execute_result"
    }
   ],
   "source": [
    "data3 = r3.json()\n",
    "data3"
   ]
  },
  {
   "cell_type": "markdown",
   "id": "26ddca1a",
   "metadata": {},
   "source": [
    "Need to figure out how to select the most suitable textual phonetics and audio pair"
   ]
  },
  {
   "cell_type": "code",
   "execution_count": null,
   "id": "78b1557a",
   "metadata": {},
   "outputs": [],
   "source": []
  }
 ],
 "metadata": {
  "kernelspec": {
   "display_name": "Python 3",
   "language": "python",
   "name": "python3"
  },
  "language_info": {
   "codemirror_mode": {
    "name": "ipython",
    "version": 3
   },
   "file_extension": ".py",
   "mimetype": "text/x-python",
   "name": "python",
   "nbconvert_exporter": "python",
   "pygments_lexer": "ipython3",
   "version": "3.8.8"
  }
 },
 "nbformat": 4,
 "nbformat_minor": 5
}
